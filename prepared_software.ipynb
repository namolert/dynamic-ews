{
 "cells": [
  {
   "cell_type": "code",
   "execution_count": 3,
   "id": "f6c32eb7",
   "metadata": {},
   "outputs": [],
   "source": [
    "# Import libraries\n",
    "import yfinance as yf\n",
    "import pandas as pd\n",
    "import numpy as np\n",
    "import seaborn as sns\n",
    "import matplotlib.pyplot as plt\n",
    "import matplotlib.dates as mdates\n",
    "import matplotlib.colors as mcolors\n",
    "from sklearn.preprocessing import LabelEncoder\n",
    "from sklearn.neighbors import KNeighborsRegressor\n",
    "from sklearn.linear_model import LinearRegression\n",
    "import xgboost as xgb\n",
    "from tabulate import tabulate\n",
    "import json\n",
    "import datetime\n",
    "from datetime import date, timedelta\n",
    "import os\n",
    "from transformers import AutoTokenizer, AutoModelForSequenceClassification\n",
    "import torch\n",
    "from tqdm import tqdm\n",
    "\n",
    "# Set visualization style\n",
    "sns.set(style='whitegrid', palette='muted', color_codes=True)\n",
    "\n",
    "# Import additional libraries for machine learning\n",
    "from sklearn.model_selection import train_test_split\n",
    "from sklearn.linear_model import LogisticRegression\n",
    "from sklearn.metrics import accuracy_score, confusion_matrix, classification_report, roc_curve, auc, precision_recall_curve, log_loss, mean_squared_error, r2_score, ConfusionMatrixDisplay, roc_auc_score\n",
    "from sklearn.preprocessing import StandardScaler, MinMaxScaler\n",
    "from sklearn.ensemble import RandomForestClassifier\n",
    "from sklearn.inspection import permutation_importance\n",
    "import random\n",
    "random.seed(42)\n",
    "np.random.seed(42)\n",
    "RANDOM_STATE = 42\n",
    "\n",
    "import scipy.stats as stats\n",
    "import warnings\n",
    "warnings.filterwarnings('ignore')\n",
    "\n",
    "from plot_utils import *\n",
    "\n",
    "# SMOTE\n",
    "from imblearn.over_sampling import SMOTE\n",
    "sm = SMOTE(random_state=RANDOM_STATE)"
   ]
  },
  {
   "cell_type": "code",
   "execution_count": 2,
   "id": "8616348d",
   "metadata": {},
   "outputs": [
    {
     "name": "stderr",
     "output_type": "stream",
     "text": [
      "c:\\Users\\namo\\AppData\\Local\\Programs\\Python\\Python311\\Lib\\site-packages\\keras\\src\\saving\\saving_lib.py:757: UserWarning: Skipping variable loading for optimizer 'rmsprop', because it has 10 variables whereas the saved optimizer has 18 variables. \n",
      "  saveable.load_own_variables(weights_store.get(inner_path))\n"
     ]
    },
    {
     "data": {
      "text/html": [
       "<pre style=\"white-space:pre;overflow-x:auto;line-height:normal;font-family:Menlo,'DejaVu Sans Mono',consolas,'Courier New',monospace\"><span style=\"font-weight: bold\">Model: \"sequential_5\"</span>\n",
       "</pre>\n"
      ],
      "text/plain": [
       "\u001b[1mModel: \"sequential_5\"\u001b[0m\n"
      ]
     },
     "metadata": {},
     "output_type": "display_data"
    },
    {
     "data": {
      "text/html": [
       "<pre style=\"white-space:pre;overflow-x:auto;line-height:normal;font-family:Menlo,'DejaVu Sans Mono',consolas,'Courier New',monospace\">┏━━━━━━━━━━━━━━━━━━━━━━━━━━━━━━━━━┳━━━━━━━━━━━━━━━━━━━━━━━━┳━━━━━━━━━━━━━━━┓\n",
       "┃<span style=\"font-weight: bold\"> Layer (type)                    </span>┃<span style=\"font-weight: bold\"> Output Shape           </span>┃<span style=\"font-weight: bold\">       Param # </span>┃\n",
       "┡━━━━━━━━━━━━━━━━━━━━━━━━━━━━━━━━━╇━━━━━━━━━━━━━━━━━━━━━━━━╇━━━━━━━━━━━━━━━┩\n",
       "│ conv1d_10 (<span style=\"color: #0087ff; text-decoration-color: #0087ff\">Conv1D</span>)              │ (<span style=\"color: #00d7ff; text-decoration-color: #00d7ff\">None</span>, <span style=\"color: #00af00; text-decoration-color: #00af00\">8</span>, <span style=\"color: #00af00; text-decoration-color: #00af00\">64</span>)          │           <span style=\"color: #00af00; text-decoration-color: #00af00\">256</span> │\n",
       "├─────────────────────────────────┼────────────────────────┼───────────────┤\n",
       "│ max_pooling1d_5 (<span style=\"color: #0087ff; text-decoration-color: #0087ff\">MaxPooling1D</span>)  │ (<span style=\"color: #00d7ff; text-decoration-color: #00d7ff\">None</span>, <span style=\"color: #00af00; text-decoration-color: #00af00\">4</span>, <span style=\"color: #00af00; text-decoration-color: #00af00\">64</span>)          │             <span style=\"color: #00af00; text-decoration-color: #00af00\">0</span> │\n",
       "├─────────────────────────────────┼────────────────────────┼───────────────┤\n",
       "│ conv1d_11 (<span style=\"color: #0087ff; text-decoration-color: #0087ff\">Conv1D</span>)              │ (<span style=\"color: #00d7ff; text-decoration-color: #00d7ff\">None</span>, <span style=\"color: #00af00; text-decoration-color: #00af00\">2</span>, <span style=\"color: #00af00; text-decoration-color: #00af00\">128</span>)         │        <span style=\"color: #00af00; text-decoration-color: #00af00\">24,704</span> │\n",
       "├─────────────────────────────────┼────────────────────────┼───────────────┤\n",
       "│ global_max_pooling1d_5          │ (<span style=\"color: #00d7ff; text-decoration-color: #00d7ff\">None</span>, <span style=\"color: #00af00; text-decoration-color: #00af00\">128</span>)            │             <span style=\"color: #00af00; text-decoration-color: #00af00\">0</span> │\n",
       "│ (<span style=\"color: #0087ff; text-decoration-color: #0087ff\">GlobalMaxPooling1D</span>)            │                        │               │\n",
       "├─────────────────────────────────┼────────────────────────┼───────────────┤\n",
       "│ dropout_5 (<span style=\"color: #0087ff; text-decoration-color: #0087ff\">Dropout</span>)             │ (<span style=\"color: #00d7ff; text-decoration-color: #00d7ff\">None</span>, <span style=\"color: #00af00; text-decoration-color: #00af00\">128</span>)            │             <span style=\"color: #00af00; text-decoration-color: #00af00\">0</span> │\n",
       "├─────────────────────────────────┼────────────────────────┼───────────────┤\n",
       "│ dense_10 (<span style=\"color: #0087ff; text-decoration-color: #0087ff\">Dense</span>)                │ (<span style=\"color: #00d7ff; text-decoration-color: #00d7ff\">None</span>, <span style=\"color: #00af00; text-decoration-color: #00af00\">64</span>)             │         <span style=\"color: #00af00; text-decoration-color: #00af00\">8,256</span> │\n",
       "├─────────────────────────────────┼────────────────────────┼───────────────┤\n",
       "│ dense_11 (<span style=\"color: #0087ff; text-decoration-color: #0087ff\">Dense</span>)                │ (<span style=\"color: #00d7ff; text-decoration-color: #00d7ff\">None</span>, <span style=\"color: #00af00; text-decoration-color: #00af00\">1</span>)              │            <span style=\"color: #00af00; text-decoration-color: #00af00\">65</span> │\n",
       "└─────────────────────────────────┴────────────────────────┴───────────────┘\n",
       "</pre>\n"
      ],
      "text/plain": [
       "┏━━━━━━━━━━━━━━━━━━━━━━━━━━━━━━━━━┳━━━━━━━━━━━━━━━━━━━━━━━━┳━━━━━━━━━━━━━━━┓\n",
       "┃\u001b[1m \u001b[0m\u001b[1mLayer (type)                   \u001b[0m\u001b[1m \u001b[0m┃\u001b[1m \u001b[0m\u001b[1mOutput Shape          \u001b[0m\u001b[1m \u001b[0m┃\u001b[1m \u001b[0m\u001b[1m      Param #\u001b[0m\u001b[1m \u001b[0m┃\n",
       "┡━━━━━━━━━━━━━━━━━━━━━━━━━━━━━━━━━╇━━━━━━━━━━━━━━━━━━━━━━━━╇━━━━━━━━━━━━━━━┩\n",
       "│ conv1d_10 (\u001b[38;5;33mConv1D\u001b[0m)              │ (\u001b[38;5;45mNone\u001b[0m, \u001b[38;5;34m8\u001b[0m, \u001b[38;5;34m64\u001b[0m)          │           \u001b[38;5;34m256\u001b[0m │\n",
       "├─────────────────────────────────┼────────────────────────┼───────────────┤\n",
       "│ max_pooling1d_5 (\u001b[38;5;33mMaxPooling1D\u001b[0m)  │ (\u001b[38;5;45mNone\u001b[0m, \u001b[38;5;34m4\u001b[0m, \u001b[38;5;34m64\u001b[0m)          │             \u001b[38;5;34m0\u001b[0m │\n",
       "├─────────────────────────────────┼────────────────────────┼───────────────┤\n",
       "│ conv1d_11 (\u001b[38;5;33mConv1D\u001b[0m)              │ (\u001b[38;5;45mNone\u001b[0m, \u001b[38;5;34m2\u001b[0m, \u001b[38;5;34m128\u001b[0m)         │        \u001b[38;5;34m24,704\u001b[0m │\n",
       "├─────────────────────────────────┼────────────────────────┼───────────────┤\n",
       "│ global_max_pooling1d_5          │ (\u001b[38;5;45mNone\u001b[0m, \u001b[38;5;34m128\u001b[0m)            │             \u001b[38;5;34m0\u001b[0m │\n",
       "│ (\u001b[38;5;33mGlobalMaxPooling1D\u001b[0m)            │                        │               │\n",
       "├─────────────────────────────────┼────────────────────────┼───────────────┤\n",
       "│ dropout_5 (\u001b[38;5;33mDropout\u001b[0m)             │ (\u001b[38;5;45mNone\u001b[0m, \u001b[38;5;34m128\u001b[0m)            │             \u001b[38;5;34m0\u001b[0m │\n",
       "├─────────────────────────────────┼────────────────────────┼───────────────┤\n",
       "│ dense_10 (\u001b[38;5;33mDense\u001b[0m)                │ (\u001b[38;5;45mNone\u001b[0m, \u001b[38;5;34m64\u001b[0m)             │         \u001b[38;5;34m8,256\u001b[0m │\n",
       "├─────────────────────────────────┼────────────────────────┼───────────────┤\n",
       "│ dense_11 (\u001b[38;5;33mDense\u001b[0m)                │ (\u001b[38;5;45mNone\u001b[0m, \u001b[38;5;34m1\u001b[0m)              │            \u001b[38;5;34m65\u001b[0m │\n",
       "└─────────────────────────────────┴────────────────────────┴───────────────┘\n"
      ]
     },
     "metadata": {},
     "output_type": "display_data"
    },
    {
     "data": {
      "text/html": [
       "<pre style=\"white-space:pre;overflow-x:auto;line-height:normal;font-family:Menlo,'DejaVu Sans Mono',consolas,'Courier New',monospace\"><span style=\"font-weight: bold\"> Total params: </span><span style=\"color: #00af00; text-decoration-color: #00af00\">66,564</span> (260.02 KB)\n",
       "</pre>\n"
      ],
      "text/plain": [
       "\u001b[1m Total params: \u001b[0m\u001b[38;5;34m66,564\u001b[0m (260.02 KB)\n"
      ]
     },
     "metadata": {},
     "output_type": "display_data"
    },
    {
     "data": {
      "text/html": [
       "<pre style=\"white-space:pre;overflow-x:auto;line-height:normal;font-family:Menlo,'DejaVu Sans Mono',consolas,'Courier New',monospace\"><span style=\"font-weight: bold\"> Trainable params: </span><span style=\"color: #00af00; text-decoration-color: #00af00\">33,281</span> (130.00 KB)\n",
       "</pre>\n"
      ],
      "text/plain": [
       "\u001b[1m Trainable params: \u001b[0m\u001b[38;5;34m33,281\u001b[0m (130.00 KB)\n"
      ]
     },
     "metadata": {},
     "output_type": "display_data"
    },
    {
     "data": {
      "text/html": [
       "<pre style=\"white-space:pre;overflow-x:auto;line-height:normal;font-family:Menlo,'DejaVu Sans Mono',consolas,'Courier New',monospace\"><span style=\"font-weight: bold\"> Non-trainable params: </span><span style=\"color: #00af00; text-decoration-color: #00af00\">0</span> (0.00 B)\n",
       "</pre>\n"
      ],
      "text/plain": [
       "\u001b[1m Non-trainable params: \u001b[0m\u001b[38;5;34m0\u001b[0m (0.00 B)\n"
      ]
     },
     "metadata": {},
     "output_type": "display_data"
    },
    {
     "data": {
      "text/html": [
       "<pre style=\"white-space:pre;overflow-x:auto;line-height:normal;font-family:Menlo,'DejaVu Sans Mono',consolas,'Courier New',monospace\"><span style=\"font-weight: bold\"> Optimizer params: </span><span style=\"color: #00af00; text-decoration-color: #00af00\">33,283</span> (130.02 KB)\n",
       "</pre>\n"
      ],
      "text/plain": [
       "\u001b[1m Optimizer params: \u001b[0m\u001b[38;5;34m33,283\u001b[0m (130.02 KB)\n"
      ]
     },
     "metadata": {},
     "output_type": "display_data"
    }
   ],
   "source": [
    "from tensorflow.keras.models import load_model\n",
    "\n",
    "# If saved as .h5\n",
    "model = load_model('best_model.keras')\n",
    "model.summary()\n",
    "# If saved as SavedModel folder\n",
    "# model = load_model('best_sentiment_model')\n"
   ]
  },
  {
   "cell_type": "markdown",
   "id": "e671d4a8",
   "metadata": {},
   "source": [
    "## Data Entry"
   ]
  },
  {
   "cell_type": "code",
   "execution_count": null,
   "id": "fc21d055",
   "metadata": {},
   "outputs": [
    {
     "name": "stdout",
     "output_type": "stream",
     "text": [
      "Previous 21 days:\n",
      "                                                Title       Date   Close\n",
      "0   Global Stock Markets Surge on Strong Economic ... 2024-02-13  5200.0\n",
      "1   Investor Confidence Boosted as Companies Repor... 2024-02-14  5191.7\n",
      "2   Tech Stocks Soar Following Breakthrough Produc... 2024-02-15  5183.4\n",
      "3    Major Banks Report Better-than-Expected Earnings 2024-02-16  5175.1\n",
      "4   Financial Experts Optimistic About Market Reco... 2024-02-17  5166.8\n",
      "5     Central Bank Signals Supportive Monetary Policy 2024-02-18  5158.5\n",
      "6       Commodity Prices Rise on Strong Global Demand 2024-02-19  5150.2\n",
      "7   Emerging Markets See Influx of Foreign Investment 2024-02-20  5141.9\n",
      "8         Housing Market Shows Signs of Robust Growth 2024-02-21  5133.6\n",
      "9               Equity Markets Reach New Record Highs 2024-02-22  5125.3\n",
      "10   Corporate Earnings Exceed Analysts’ Expectations 2024-02-23  5117.0\n",
      "11  Global Stock Markets Plunge as Major Banks Fac... 2024-02-24  5108.7\n",
      "12  Investor Confidence Shattered as Top Banks Rep... 2024-02-25  5100.4\n",
      "13  Stock Exchanges Tumble Amid Banking Sector Liq... 2024-02-26  5092.1\n",
      "14   Major Banks Struggle as Market Volatility Surges 2024-02-27  5083.8\n",
      "15  Financial Experts Warn of Impending Market Dow... 2024-02-28  5075.5\n",
      "16  Central Bank Announces Emergency Rate Hike Ami... 2024-02-29  5067.2\n",
      "17  Tech Stocks Collapse Following Regulatory Inve... 2024-03-01  5058.9\n",
      "18      Commodity Prices Crash as Global Demand Slows 2024-03-02  5050.6\n",
      "19  Corporate Debt Defaults Spike Amid Economic Un... 2024-03-03  5042.3\n",
      "20  Currency Markets Wobble as Investor Panic Esca... 2024-03-04  5034.0\n",
      "\n",
      "New entry day:\n",
      "                                                Title       Date   Close\n",
      "21  Mortgage-Backed Securities Face Sudden Valuati... 2024-03-05  5025.7\n"
     ]
    }
   ],
   "source": [
    "import pandas as pd\n",
    "import numpy as np\n",
    "\n",
    "# Example: extend dataset to 22 days for demonstration\n",
    "dates = pd.date_range(start='2024-02-13', periods=22, freq='D')  # 22 consecutive days\n",
    "close_prices = np.linspace(5200, 5025.7, 22)  # decreasing example prices\n",
    "titles = [\n",
    "    # Positive (first 11)\n",
    "    \"Global Stock Markets Surge on Strong Economic Data\",\n",
    "    \"Investor Confidence Boosted as Companies Report Record Profits\",\n",
    "    \"Tech Stocks Soar Following Breakthrough Product Launches\",\n",
    "    \"Major Banks Report Better-than-Expected Earnings\",\n",
    "    \"Financial Experts Optimistic About Market Recovery\",\n",
    "    \"Central Bank Signals Supportive Monetary Policy\",\n",
    "    \"Commodity Prices Rise on Strong Global Demand\",\n",
    "    \"Emerging Markets See Influx of Foreign Investment\",\n",
    "    \"Housing Market Shows Signs of Robust Growth\",\n",
    "    \"Equity Markets Reach New Record Highs\",\n",
    "    \"Corporate Earnings Exceed Analysts’ Expectations\",\n",
    "\n",
    "    # Negative (last 12)\n",
    "    \"Global Stock Markets Plunge as Major Banks Face Insolvency Crisis\",\n",
    "    \"Investor Confidence Shattered as Top Banks Report Insolvency\",\n",
    "    \"Stock Exchanges Tumble Amid Banking Sector Liquidity Concerns\",\n",
    "    \"Major Banks Struggle as Market Volatility Surges\",\n",
    "    \"Financial Experts Warn of Impending Market Downturn\",\n",
    "    \"Central Bank Announces Emergency Rate Hike Amid Crisis\",\n",
    "    \"Tech Stocks Collapse Following Regulatory Investigation\",\n",
    "    \"Commodity Prices Crash as Global Demand Slows\",\n",
    "    \"Corporate Debt Defaults Spike Amid Economic Uncertainty\",\n",
    "    \"Currency Markets Wobble as Investor Panic Escalates\",\n",
    "    \"Mortgage-Backed Securities Face Sudden Valuation Drop\",\n",
    "]\n",
    "\n",
    "\n",
    "example_df = pd.DataFrame({\n",
    "    'Title': titles,\n",
    "    'Date': dates,\n",
    "    'Close': close_prices\n",
    "})\n",
    "\n",
    "prev_21_df = example_df.iloc[:21].copy()\n",
    "\n",
    "new_entry_df = example_df.iloc[21:].copy()\n",
    "\n",
    "print(\"Previous 21 days:\")\n",
    "print(prev_21_df)\n",
    "\n",
    "print(\"\\nNew entry day:\")\n",
    "print(new_entry_df)\n"
   ]
  },
  {
   "cell_type": "markdown",
   "id": "c3d20ce6",
   "metadata": {},
   "source": [
    "### Sentiment: \n",
    "\n",
    "Title -> sentiment_score_finbert -> avg_sentiment_score_a_day -> 22_day_sentiment_volatility"
   ]
  },
  {
   "cell_type": "code",
   "execution_count": 111,
   "id": "3d66ebe1",
   "metadata": {},
   "outputs": [],
   "source": [
    "# Load FinBERT (pre-trained for financial sentiment)\n",
    "tokenizer = AutoTokenizer.from_pretrained('ProsusAI/finbert')\n",
    "model = AutoModelForSequenceClassification.from_pretrained('ProsusAI/finbert')\n",
    "\n",
    "def get_sentiment_score(text):\n",
    "    inputs = tokenizer(text, return_tensors=\"pt\", truncation=True)\n",
    "    outputs = model(**inputs)\n",
    "    probs = torch.nn.functional.softmax(outputs.logits, dim=-1)\n",
    "\n",
    "    # Custom score: Positive = +1, Neutral = 0, Negative = -1\n",
    "    print(probs[0])\n",
    "\n",
    "    score = (probs[0][0] - probs[0][1]).item()\n",
    "    return score"
   ]
  },
  {
   "cell_type": "code",
   "execution_count": 112,
   "id": "f990faef",
   "metadata": {},
   "outputs": [
    {
     "name": "stderr",
     "output_type": "stream",
     "text": [
      " 19%|█▉        | 4/21 [00:00<00:00, 31.09it/s]"
     ]
    },
    {
     "name": "stdout",
     "output_type": "stream",
     "text": [
      "tensor([0.8803, 0.0580, 0.0618], grad_fn=<SelectBackward0>)\n",
      "tensor([0.9035, 0.0374, 0.0592], grad_fn=<SelectBackward0>)\n",
      "tensor([0.9266, 0.0219, 0.0515], grad_fn=<SelectBackward0>)\n",
      "tensor([0.9298, 0.0508, 0.0195], grad_fn=<SelectBackward0>)\n",
      "tensor([0.6382, 0.0290, 0.3328], grad_fn=<SelectBackward0>)\n"
     ]
    },
    {
     "name": "stderr",
     "output_type": "stream",
     "text": [
      " 52%|█████▏    | 11/21 [00:00<00:00, 27.39it/s]"
     ]
    },
    {
     "name": "stdout",
     "output_type": "stream",
     "text": [
      "tensor([0.9420, 0.0182, 0.0398], grad_fn=<SelectBackward0>)\n",
      "tensor([0.8041, 0.1542, 0.0417], grad_fn=<SelectBackward0>)\n",
      "tensor([0.9152, 0.0201, 0.0647], grad_fn=<SelectBackward0>)\n",
      "tensor([0.9495, 0.0212, 0.0293], grad_fn=<SelectBackward0>)\n",
      "tensor([0.7476, 0.0953, 0.1571], grad_fn=<SelectBackward0>)\n",
      "tensor([0.9266, 0.0322, 0.0412], grad_fn=<SelectBackward0>)\n"
     ]
    },
    {
     "name": "stderr",
     "output_type": "stream",
     "text": [
      " 67%|██████▋   | 14/21 [00:00<00:00, 26.18it/s]"
     ]
    },
    {
     "name": "stdout",
     "output_type": "stream",
     "text": [
      "tensor([0.0098, 0.9536, 0.0366], grad_fn=<SelectBackward0>)\n",
      "tensor([0.0196, 0.9413, 0.0392], grad_fn=<SelectBackward0>)\n",
      "tensor([0.0139, 0.9474, 0.0387], grad_fn=<SelectBackward0>)\n",
      "tensor([0.0192, 0.9432, 0.0376], grad_fn=<SelectBackward0>)\n",
      "tensor([0.0169, 0.9443, 0.0388], grad_fn=<SelectBackward0>)\n"
     ]
    },
    {
     "name": "stderr",
     "output_type": "stream",
     "text": [
      "100%|██████████| 21/21 [00:00<00:00, 23.27it/s]\n"
     ]
    },
    {
     "name": "stdout",
     "output_type": "stream",
     "text": [
      "tensor([0.2473, 0.4917, 0.2610], grad_fn=<SelectBackward0>)\n",
      "tensor([0.0129, 0.9323, 0.0548], grad_fn=<SelectBackward0>)\n",
      "tensor([0.0100, 0.9642, 0.0258], grad_fn=<SelectBackward0>)\n",
      "tensor([0.0268, 0.9600, 0.0132], grad_fn=<SelectBackward0>)\n",
      "tensor([0.0187, 0.9195, 0.0618], grad_fn=<SelectBackward0>)\n"
     ]
    },
    {
     "name": "stderr",
     "output_type": "stream",
     "text": [
      "100%|██████████| 1/1 [00:00<00:00, 24.09it/s]"
     ]
    },
    {
     "name": "stdout",
     "output_type": "stream",
     "text": [
      "tensor([0.0110, 0.9450, 0.0440], grad_fn=<SelectBackward0>)\n",
      "                                                Title       Date   Close  \\\n",
      "0   Global Stock Markets Surge on Strong Economic ... 2024-02-13  5200.0   \n",
      "1   Investor Confidence Boosted as Companies Repor... 2024-02-14  5191.7   \n",
      "2   Tech Stocks Soar Following Breakthrough Produc... 2024-02-15  5183.4   \n",
      "3    Major Banks Report Better-than-Expected Earnings 2024-02-16  5175.1   \n",
      "4   Financial Experts Optimistic About Market Reco... 2024-02-17  5166.8   \n",
      "5     Central Bank Signals Supportive Monetary Policy 2024-02-18  5158.5   \n",
      "6       Commodity Prices Rise on Strong Global Demand 2024-02-19  5150.2   \n",
      "7   Emerging Markets See Influx of Foreign Investment 2024-02-20  5141.9   \n",
      "8         Housing Market Shows Signs of Robust Growth 2024-02-21  5133.6   \n",
      "9               Equity Markets Reach New Record Highs 2024-02-22  5125.3   \n",
      "10   Corporate Earnings Exceed Analysts’ Expectations 2024-02-23  5117.0   \n",
      "11  Global Stock Markets Plunge as Major Banks Fac... 2024-02-24  5108.7   \n",
      "12  Investor Confidence Shattered as Top Banks Rep... 2024-02-25  5100.4   \n",
      "13  Stock Exchanges Tumble Amid Banking Sector Liq... 2024-02-26  5092.1   \n",
      "14   Major Banks Struggle as Market Volatility Surges 2024-02-27  5083.8   \n",
      "15  Financial Experts Warn of Impending Market Dow... 2024-02-28  5075.5   \n",
      "16  Central Bank Announces Emergency Rate Hike Ami... 2024-02-29  5067.2   \n",
      "17  Tech Stocks Collapse Following Regulatory Inve... 2024-03-01  5058.9   \n",
      "18      Commodity Prices Crash as Global Demand Slows 2024-03-02  5050.6   \n",
      "19  Corporate Debt Defaults Spike Amid Economic Un... 2024-03-03  5042.3   \n",
      "20  Currency Markets Wobble as Investor Panic Esca... 2024-03-04  5034.0   \n",
      "\n",
      "    sentiment_score_finbert  \n",
      "0                  0.822283  \n",
      "1                  0.866107  \n",
      "2                  0.904664  \n",
      "3                  0.878993  \n",
      "4                  0.609170  \n",
      "5                  0.923874  \n",
      "6                  0.649844  \n",
      "7                  0.895059  \n",
      "8                  0.928305  \n",
      "9                  0.652382  \n",
      "10                 0.894442  \n",
      "11                -0.943749  \n",
      "12                -0.921666  \n",
      "13                -0.933554  \n",
      "14                -0.924070  \n",
      "15                -0.927313  \n",
      "16                -0.244442  \n",
      "17                -0.919420  \n",
      "18                -0.954198  \n",
      "19                -0.933198  \n",
      "20                -0.900846  \n",
      "                                                Title       Date   Close  \\\n",
      "21  Mortgage-Backed Securities Face Sudden Valuati... 2024-03-05  5025.7   \n",
      "\n",
      "    sentiment_score_finbert  \n",
      "21                -0.934014  \n"
     ]
    },
    {
     "name": "stderr",
     "output_type": "stream",
     "text": [
      "\n"
     ]
    }
   ],
   "source": [
    "tqdm.pandas()\n",
    "prev_21_df['sentiment_score_finbert'] = prev_21_df['Title'].progress_apply(get_sentiment_score)\n",
    "new_entry_df['sentiment_score_finbert'] = new_entry_df['Title'].progress_apply(get_sentiment_score)\n",
    "print(prev_21_df)\n",
    "print(new_entry_df)"
   ]
  },
  {
   "cell_type": "code",
   "execution_count": 121,
   "id": "cc3eccda",
   "metadata": {},
   "outputs": [
    {
     "name": "stdout",
     "output_type": "stream",
     "text": [
      "Previous 21 days with volatility:\n",
      "         Date   Close  avg_sentiment_score_a_day  22_day_sentiment_volatility\n",
      "0  2024-02-13  5200.0                   0.822283                          NaN\n",
      "1  2024-02-14  5191.7                   0.866107                          NaN\n",
      "2  2024-02-15  5183.4                   0.904664                          NaN\n",
      "3  2024-02-16  5175.1                   0.878993                          NaN\n",
      "4  2024-02-17  5166.8                   0.609170                          NaN\n",
      "5  2024-02-18  5158.5                   0.923874                          NaN\n",
      "6  2024-02-19  5150.2                   0.649844                          NaN\n",
      "7  2024-02-20  5141.9                   0.895059                          NaN\n",
      "8  2024-02-21  5133.6                   0.928305                          NaN\n",
      "9  2024-02-22  5125.3                   0.652382                          NaN\n",
      "10 2024-02-23  5117.0                   0.894442                          NaN\n",
      "11 2024-02-24  5108.7                  -0.943749                          NaN\n",
      "12 2024-02-25  5100.4                  -0.921666                          NaN\n",
      "13 2024-02-26  5092.1                  -0.933554                          NaN\n",
      "14 2024-02-27  5083.8                  -0.924070                          NaN\n",
      "15 2024-02-28  5075.5                  -0.927313                          NaN\n",
      "16 2024-02-29  5067.2                  -0.244442                          NaN\n",
      "17 2024-03-01  5058.9                  -0.919420                          NaN\n",
      "18 2024-03-02  5050.6                  -0.954198                          NaN\n",
      "19 2024-03-03  5042.3                  -0.933198                          NaN\n",
      "20 2024-03-04  5034.0                  -0.900846                          NaN\n",
      "\n",
      "New entry day with volatility:\n",
      "         Date   Close  avg_sentiment_score_a_day  22_day_sentiment_volatility\n",
      "21 2024-03-05  5025.7                  -0.934014                     0.879304\n"
     ]
    }
   ],
   "source": [
    "volatility_period = 22\n",
    "raw_merged_df = pd.concat([prev_21_df, new_entry_df], ignore_index=True)\n",
    "\n",
    "daily_sentiment = raw_merged_df.groupby('Date')['sentiment_score_finbert'].mean().reset_index()\n",
    "daily_sentiment.rename(columns={'sentiment_score_finbert': 'avg_sentiment_score_a_day'}, inplace=True)\n",
    "\n",
    "daily_sentiment[f'{volatility_period}_day_sentiment_volatility'] = daily_sentiment['avg_sentiment_score_a_day'].rolling(window=volatility_period).std()\n",
    "\n",
    "merged_df = pd.merge(raw_merged_df[['Date', 'Close']].drop_duplicates(), daily_sentiment, on='Date', how='left')\n",
    "\n",
    "prev_21_merged = merged_df.iloc[:21].copy()\n",
    "new_entry_merged = merged_df.iloc[21:].copy()\n",
    "\n",
    "print(\"Previous 21 days with volatility:\")\n",
    "print(prev_21_merged)\n",
    "\n",
    "print(\"\\nNew entry day with volatility:\")\n",
    "print(new_entry_merged)\n"
   ]
  },
  {
   "cell_type": "markdown",
   "id": "39e97df6",
   "metadata": {},
   "source": [
    "### Market"
   ]
  },
  {
   "cell_type": "code",
   "execution_count": 122,
   "id": "a52430b0",
   "metadata": {},
   "outputs": [
    {
     "name": "stdout",
     "output_type": "stream",
     "text": [
      "         Date   Close  avg_sentiment_score_a_day  22_day_sentiment_volatility  \\\n",
      "0  2024-02-13  5200.0                   0.822283                          NaN   \n",
      "1  2024-02-14  5191.7                   0.866107                          NaN   \n",
      "2  2024-02-15  5183.4                   0.904664                          NaN   \n",
      "3  2024-02-16  5175.1                   0.878993                          NaN   \n",
      "4  2024-02-17  5166.8                   0.609170                          NaN   \n",
      "5  2024-02-18  5158.5                   0.923874                          NaN   \n",
      "6  2024-02-19  5150.2                   0.649844                          NaN   \n",
      "7  2024-02-20  5141.9                   0.895059                          NaN   \n",
      "8  2024-02-21  5133.6                   0.928305                          NaN   \n",
      "9  2024-02-22  5125.3                   0.652382                          NaN   \n",
      "10 2024-02-23  5117.0                   0.894442                          NaN   \n",
      "11 2024-02-24  5108.7                  -0.943749                          NaN   \n",
      "12 2024-02-25  5100.4                  -0.921666                          NaN   \n",
      "13 2024-02-26  5092.1                  -0.933554                          NaN   \n",
      "14 2024-02-27  5083.8                  -0.924070                          NaN   \n",
      "15 2024-02-28  5075.5                  -0.927313                          NaN   \n",
      "16 2024-02-29  5067.2                  -0.244442                          NaN   \n",
      "17 2024-03-01  5058.9                  -0.919420                          NaN   \n",
      "18 2024-03-02  5050.6                  -0.954198                          NaN   \n",
      "19 2024-03-03  5042.3                  -0.933198                          NaN   \n",
      "20 2024-03-04  5034.0                  -0.900846                          NaN   \n",
      "21 2024-03-05  5025.7                  -0.934014                     0.879304   \n",
      "\n",
      "    daily_return  22_day_market_volatility  \n",
      "0            NaN                       NaN  \n",
      "1      -0.159615                       NaN  \n",
      "2      -0.159871                       NaN  \n",
      "3      -0.160127                       NaN  \n",
      "4      -0.160383                       NaN  \n",
      "5      -0.160641                       NaN  \n",
      "6      -0.160899                       NaN  \n",
      "7      -0.161159                       NaN  \n",
      "8      -0.161419                       NaN  \n",
      "9      -0.161680                       NaN  \n",
      "10     -0.161942                       NaN  \n",
      "11     -0.162204                       NaN  \n",
      "12     -0.162468                       NaN  \n",
      "13     -0.162732                       NaN  \n",
      "14     -0.162998                       NaN  \n",
      "15     -0.163264                       NaN  \n",
      "16     -0.163531                       NaN  \n",
      "17     -0.163799                       NaN  \n",
      "18     -0.164067                       NaN  \n",
      "19     -0.164337                       NaN  \n",
      "20     -0.164607                       NaN  \n",
      "21     -0.164879                 53.896769  \n"
     ]
    }
   ],
   "source": [
    "# Calculate n-day market return\n",
    "merged_df[f'daily_return'] = merged_df['Close'].pct_change() * 100\n",
    "merged_df[f'{volatility_period}_day_market_volatility'] = merged_df['Close'].rolling(window=volatility_period).std()\n",
    "\n",
    "print(merged_df)"
   ]
  },
  {
   "cell_type": "code",
   "execution_count": 134,
   "id": "17547480",
   "metadata": {},
   "outputs": [],
   "source": [
    "# For example, we'll make up a daily_return for the first date\n",
    "merged_df.at[0, 'daily_return'] = -0.159442"
   ]
  },
  {
   "cell_type": "markdown",
   "id": "a06d2073",
   "metadata": {},
   "source": [
    "### VaR and ES"
   ]
  },
  {
   "cell_type": "code",
   "execution_count": 138,
   "id": "a5794706",
   "metadata": {},
   "outputs": [
    {
     "data": {
      "text/html": [
       "<div>\n",
       "<style scoped>\n",
       "    .dataframe tbody tr th:only-of-type {\n",
       "        vertical-align: middle;\n",
       "    }\n",
       "\n",
       "    .dataframe tbody tr th {\n",
       "        vertical-align: top;\n",
       "    }\n",
       "\n",
       "    .dataframe thead th {\n",
       "        text-align: right;\n",
       "    }\n",
       "</style>\n",
       "<table border=\"1\" class=\"dataframe\">\n",
       "  <thead>\n",
       "    <tr style=\"text-align: right;\">\n",
       "      <th></th>\n",
       "      <th>Date</th>\n",
       "      <th>Close</th>\n",
       "      <th>avg_sentiment_score_a_day</th>\n",
       "      <th>22_day_sentiment_volatility</th>\n",
       "      <th>daily_return</th>\n",
       "      <th>22_day_market_volatility</th>\n",
       "      <th>VaR_22</th>\n",
       "      <th>ES_22</th>\n",
       "    </tr>\n",
       "  </thead>\n",
       "  <tbody>\n",
       "    <tr>\n",
       "      <th>21</th>\n",
       "      <td>2024-03-05</td>\n",
       "      <td>5025.7</td>\n",
       "      <td>-0.934014</td>\n",
       "      <td>0.879304</td>\n",
       "      <td>-0.164879</td>\n",
       "      <td>53.896769</td>\n",
       "      <td>0.159298</td>\n",
       "      <td>0.158587</td>\n",
       "    </tr>\n",
       "  </tbody>\n",
       "</table>\n",
       "</div>"
      ],
      "text/plain": [
       "         Date   Close  avg_sentiment_score_a_day  22_day_sentiment_volatility  \\\n",
       "21 2024-03-05  5025.7                  -0.934014                     0.879304   \n",
       "\n",
       "    daily_return  22_day_market_volatility    VaR_22     ES_22  \n",
       "21     -0.164879                 53.896769  0.159298  0.158587  "
      ]
     },
     "execution_count": 138,
     "metadata": {},
     "output_type": "execute_result"
    }
   ],
   "source": [
    "def add_var_es_features(df, return_col='daily_return', w=volatility_period, confidence=0.05):\n",
    "    df = df.copy()\n",
    "    z_score = abs(stats.norm.ppf(confidence))\n",
    "\n",
    "    # Rolling mean and std of returns\n",
    "    rolling_mu = df[return_col].rolling(window=w).mean()\n",
    "    rolling_sigma = df[return_col].rolling(window=w).std()\n",
    "\n",
    "    # Parametric Gaussian VaR (1-day, % return)\n",
    "    df[f'VaR_{w}'] = - (rolling_mu + z_score * rolling_sigma)\n",
    "\n",
    "    # Expected Shortfall (ES) assuming normal distribution\n",
    "    pdf_factor = np.exp(-0.5 * z_score**2) / (np.sqrt(2 * np.pi))\n",
    "    cdf_factor = confidence\n",
    "    df[f'ES_{w}'] = - (rolling_mu + (rolling_sigma * pdf_factor / cdf_factor))\n",
    "\n",
    "    return df\n",
    "\n",
    "market_sentiment_data = add_var_es_features(merged_df, return_col='daily_return', confidence=0.05)\n",
    "market_sentiment_data.iloc[21:]"
   ]
  },
  {
   "cell_type": "markdown",
   "id": "fd984564",
   "metadata": {},
   "source": [
    "## Modelling"
   ]
  },
  {
   "cell_type": "markdown",
   "id": "4df8380b",
   "metadata": {},
   "source": [
    "### CNN"
   ]
  },
  {
   "cell_type": "code",
   "execution_count": null,
   "id": "46a502d1",
   "metadata": {},
   "outputs": [],
   "source": [
    "from tensorflow.keras.models import Sequential\n",
    "from tensorflow.keras.layers import Conv1D, MaxPooling1D, GlobalMaxPooling1D, Dense, Dropout\n",
    "from sklearn.utils import class_weight\n",
    "\n",
    "def cnn_model(n, feature_cols, market_sentiment_data, cnn_results, X_test_dict, y_test_dict, lag=10, window_size=10):\n",
    "    market_sentiment_data_with_lags = market_sentiment_data.copy()\n",
    "\n",
    "    train_data = market_sentiment_data_with_lags[market_sentiment_data_with_lags['Date'] < '2022-01-01']\n",
    "    test_data = market_sentiment_data_with_lags[(market_sentiment_data_with_lags['Date'] >= '2022-01-01')]\n",
    "    train_df = train_data.dropna(subset=feature_cols+['future_crash']).copy()\n",
    "    test_df = test_data.dropna(subset=feature_cols+['future_crash']).copy()\n",
    "\n",
    "    # Prepare feature matrices and target vectors\n",
    "    X_train = train_df[feature_cols].fillna(train_df[feature_cols].mean())\n",
    "    y_train = train_df['future_crash']\n",
    "    X_train_raw = X_train.values\n",
    "    y_train_raw = y_train.values\n",
    "\n",
    "    X_test = test_df[feature_cols].fillna(train_df[feature_cols].mean())\n",
    "    y_test = test_df['future_crash']\n",
    "    X_test_raw = X_test.values\n",
    "    y_test_raw = y_test.values\n",
    "\n",
    "    X_train_resampled, y_train_resampled = X_train_raw, y_train_raw\n",
    "\n",
    "    # Convert to DataFrame for convenience\n",
    "    X_train_resampled = pd.DataFrame(X_train_resampled, columns=X_train.columns)\n",
    "    y_train_resampled = pd.Series(y_train_resampled)\n",
    "\n",
    "    scaler = StandardScaler()\n",
    "    X_train_scaled = scaler.fit_transform(X_train_resampled)\n",
    "    X_test_scaled = scaler.transform(X_test_raw)\n",
    "\n",
    "    X_train_seq, y_train_seq, _ = create_sequences(pd.DataFrame(X_train_scaled, columns=X_train.columns), y_train_resampled, window=window_size)\n",
    "    X_test_seq, y_test_seq, _ = create_sequences(pd.DataFrame(X_test_scaled, columns=X_test.columns), pd.Series(y_test_raw), window=window_size)\n",
    "\n",
    "    # Define CNN model\n",
    "    cnn_model = Sequential([\n",
    "        Conv1D(filters=64, kernel_size=3, activation='relu', input_shape=(window_size, X_train_seq.shape[2])),\n",
    "        MaxPooling1D(pool_size=2),\n",
    "        Conv1D(filters=128, kernel_size=3, activation='relu'),\n",
    "        GlobalMaxPooling1D(),\n",
    "        Dropout(0.3),\n",
    "        Dense(64, activation='relu'),\n",
    "        Dense(1, activation='sigmoid')  # Binary classification\n",
    "    ])\n",
    "\n",
    "    cnn_model.compile(optimizer='adam', loss='binary_crossentropy', metrics=['AUC'])\n",
    "\n",
    "    class_weights_array = class_weight.compute_class_weight(\n",
    "        class_weight='balanced',\n",
    "        classes=np.unique(y_train_seq),\n",
    "        y=y_train_seq\n",
    "    )\n",
    "    class_weight_dict = dict(enumerate(class_weights_array))\n",
    "\n",
    "    # Train\n",
    "    cnn_model.fit(X_train_seq, y_train_seq, epochs=10, batch_size=32, validation_split=0.2, verbose=0, \n",
    "                class_weight=class_weight_dict)\n",
    "\n",
    "    y_prob = cnn_model.predict(X_test_seq).flatten()\n",
    "    best_threshold = dynamic_threshold_calculate(y_test_seq, y_prob)\n",
    "    y_pred = (y_prob > best_threshold).astype(int)\n",
    "\n",
    "    # Evaluate\n",
    "    auc_score = roc_auc_score(y_test_seq, y_prob)\n",
    "    report = classification_report(y_test_seq, y_pred, output_dict=True)\n",
    "    conf = confusion_matrix(y_test_seq, y_pred)\n",
    "    date_seq = test_df['Date'].iloc[window_size:].reset_index(drop=True)\n",
    "    \n",
    "    # Save model and results\n",
    "    cnn_results[n] = {\n",
    "        'model': cnn_model,\n",
    "        'auc_score': auc_score,\n",
    "        'report': report,\n",
    "        'y_test': y_test_seq,\n",
    "        'y_prob': y_prob,\n",
    "        'features': feature_cols,\n",
    "        'confusion': conf,\n",
    "        'date_seq': date_seq,\n",
    "    }\n",
    "\n",
    "    X_test_dict[n] = X_test_seq\n",
    "    y_test_dict[n] = y_test_seq\n",
    "\n",
    "    print(f\"\\n=== {n}-Day CNN Model ===\")\n",
    "    print(f\"AUC: {auc_score:.3f}\")\n",
    "    print(classification_report(y_test_seq, y_pred))"
   ]
  }
 ],
 "metadata": {
  "kernelspec": {
   "display_name": "Python 3",
   "language": "python",
   "name": "python3"
  },
  "language_info": {
   "codemirror_mode": {
    "name": "ipython",
    "version": 3
   },
   "file_extension": ".py",
   "mimetype": "text/x-python",
   "name": "python",
   "nbconvert_exporter": "python",
   "pygments_lexer": "ipython3",
   "version": "3.11.2"
  }
 },
 "nbformat": 4,
 "nbformat_minor": 5
}
